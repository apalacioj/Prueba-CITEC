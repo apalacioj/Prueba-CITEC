{
 "cells": [
  {
   "cell_type": "markdown",
   "metadata": {},
   "source": [
    "# **Análisis de un Dataset de ventas al detalle**"
   ]
  },
  {
   "cell_type": "markdown",
   "metadata": {},
   "source": [
    "#### Librerías utilizadas"
   ]
  },
  {
   "cell_type": "code",
   "execution_count": 9,
   "metadata": {},
   "outputs": [],
   "source": [
    "import pandas as pd\n",
    "import matplotlib.pyplot as plt\n",
    "import seaborn as sns"
   ]
  },
  {
   "cell_type": "markdown",
   "metadata": {},
   "source": [
    "#### Exploración de datos"
   ]
  },
  {
   "cell_type": "code",
   "execution_count": 3,
   "metadata": {},
   "outputs": [],
   "source": [
    "# Lectura del archivo Online Retail\n",
    "file_path = \"Online Retail.xlsx\"\n",
    "df = pd.read_excel(file_path)"
   ]
  },
  {
   "cell_type": "code",
   "execution_count": 4,
   "metadata": {},
   "outputs": [
    {
     "name": "stdout",
     "output_type": "stream",
     "text": [
      "  InvoiceNo StockCode                          Description  Quantity  \\\n",
      "0    536365    85123A   WHITE HANGING HEART T-LIGHT HOLDER         6   \n",
      "1    536365     71053                  WHITE METAL LANTERN         6   \n",
      "2    536365    84406B       CREAM CUPID HEARTS COAT HANGER         8   \n",
      "3    536365    84029G  KNITTED UNION FLAG HOT WATER BOTTLE         6   \n",
      "4    536365    84029E       RED WOOLLY HOTTIE WHITE HEART.         6   \n",
      "\n",
      "          InvoiceDate  UnitPrice  CustomerID         Country  \n",
      "0 2010-12-01 08:26:00       2.55     17850.0  United Kingdom  \n",
      "1 2010-12-01 08:26:00       3.39     17850.0  United Kingdom  \n",
      "2 2010-12-01 08:26:00       2.75     17850.0  United Kingdom  \n",
      "3 2010-12-01 08:26:00       3.39     17850.0  United Kingdom  \n",
      "4 2010-12-01 08:26:00       3.39     17850.0  United Kingdom  \n"
     ]
    }
   ],
   "source": [
    "# Primeras filas del dataset\n",
    "print(df.head())"
   ]
  },
  {
   "cell_type": "markdown",
   "metadata": {},
   "source": [
    "El dataset está compuesto por 8 columnas, donde 3 son variables cuantitativas (cadenas de texto), 4 son variables numéricas y 1 es una serie de tiempo."
   ]
  },
  {
   "cell_type": "code",
   "execution_count": 8,
   "metadata": {},
   "outputs": [
    {
     "name": "stdout",
     "output_type": "stream",
     "text": [
      "<class 'pandas.core.frame.DataFrame'>\n",
      "RangeIndex: 541909 entries, 0 to 541908\n",
      "Data columns (total 8 columns):\n",
      " #   Column       Non-Null Count   Dtype         \n",
      "---  ------       --------------   -----         \n",
      " 0   InvoiceNo    541909 non-null  object        \n",
      " 1   StockCode    541909 non-null  object        \n",
      " 2   Description  540455 non-null  object        \n",
      " 3   Quantity     541909 non-null  int64         \n",
      " 4   InvoiceDate  541909 non-null  datetime64[ns]\n",
      " 5   UnitPrice    541909 non-null  float64       \n",
      " 6   CustomerID   406829 non-null  float64       \n",
      " 7   Country      541909 non-null  object        \n",
      "dtypes: datetime64[ns](1), float64(2), int64(1), object(4)\n",
      "memory usage: 33.1+ MB\n",
      "None\n"
     ]
    }
   ],
   "source": [
    "# Información general del dataset\n",
    "print(df.info())"
   ]
  },
  {
   "cell_type": "code",
   "execution_count": 6,
   "metadata": {},
   "outputs": [
    {
     "name": "stdout",
     "output_type": "stream",
     "text": [
      "            Quantity      UnitPrice     CustomerID\n",
      "count  541909.000000  541909.000000  406829.000000\n",
      "mean        9.552250       4.611114   15287.690570\n",
      "std       218.081158      96.759853    1713.600303\n",
      "min    -80995.000000  -11062.060000   12346.000000\n",
      "25%         1.000000       1.250000   13953.000000\n",
      "50%         3.000000       2.080000   15152.000000\n",
      "75%        10.000000       4.130000   16791.000000\n",
      "max     80995.000000   38970.000000   18287.000000\n"
     ]
    }
   ],
   "source": [
    "# Análisis exploratorio de datos (resumen estadístico)\n",
    "print(df.describe())"
   ]
  },
  {
   "cell_type": "markdown",
   "metadata": {},
   "source": [
    "##### Columna ***Quantity***\n",
    "La cantidad de registros en esta columna es de 541909. En promedio, la cantidad total de productos vendidos es de 9.55 productos, por tanto, podríamos inferir que serían 10 productos. La desviación estándar es de 218.08, lo cual indica que la variabilidad entre las cantidades pedidas oscila en ese valor respecto al promedio; además, hay una gran variabilidad. El valor mínimo de la columna es -80955, lo cual es inusual dado que las cantidades son números enteros y podría indicar un error en los datos. El valor máximo es 80955, el cual es muy grande y podría representar un error por las razones anteriores y considerando que la empresa vende al detal. Finalmente, hablando de los cuartiles, el 25% de las transacciones tuvieron una cantidad igual o menor a 1; el 50% de las transacciones tuvieron una cantidad igual o menor a 3; y el 75% de las transacciones tuvieron una cantidad menor o igual a 10.\n",
    "##### Columna ***UnitPrice***\n",
    "La cantidad de registros en esta columna es de 541909. En promedio, el precio unitario de los productos es de 4.61 USD. La desviación estándar es de 96.75 USD, lo cual indica que la variabilidad entre las cantidades pedidas oscila en ese valor respecto al promedio; además, hay una gran variabilidad. El valor mínimo de la columna es -11062.06 USD, lo cual es inusual y podría indicar un error en los datos, debido a que es un valor negativo; aunque podría significar la devolución de dinero. El valor máximo es 38970 USD, el cual es muy grande considerando que la empresa vende al detal. Finalmente, hablando de los cuartiles, el 25% de las transacciones tuvieron una cantidad igual o menor a 1.25 USD; el 50% de las transacciones tuvieron una cantidad igual o menor a 2.08 USD; y el 75% de las transacciones tuvieron una cantidad menor o igual a 4.13 USD. Teniendo en cuenta el valor de la mediana, la cual es una medida robusta, podemos confirmar la sospecha de que la columna tiene valores erróneos, puesto que esta es muy pequeña respecto al mínimo y el máximo.\n",
    "##### Columna ***Customer ID***\n",
    "Las estadísticas de esta columna son insignificantes, porque a pesar de estar representadas por un valor numúerico, no se pueden interpretar porque solo indican la identificación de cada cliente. "
   ]
  },
  {
   "cell_type": "code",
   "execution_count": 12,
   "metadata": {},
   "outputs": [
    {
     "name": "stdout",
     "output_type": "stream",
     "text": [
      "Cantidad de outliers en la variable Quantity: 58619\n",
      "Cantidad de outliers en la variable UnitPrice: 39627\n"
     ]
    }
   ],
   "source": [
    "# Identificación de valores atípicos para Quantity mediante diagramas de cajas y bigotes. Los valores que están afuera de los bigotes son atípicos\n",
    "Q1 = df['Quantity'].quantile(0.25)\n",
    "Q3 = df['Quantity'].quantile(0.75)\n",
    "lower_bound = Q1 - 1.5 * (Q3 - Q1) # La diferencia entre el cuartil 3 y el cuartil 1 es el rango intercuartílico\n",
    "upper_bound = Q3 + 1.5 * (Q3 - Q1)\n",
    "outliers_quantity = df[(df['Quantity'] < lower_bound) | (df['Quantity'] > upper_bound)]\n",
    "print(f\"Cantidad de outliers en la variable Quantity: {outliers_quantity.shape[0]}\")\n",
    "\n",
    "# Identificación de valores atípicos para UnitPrice mediante diagrama de cajas y bigotes. Los valores que están afuera de los bigotes son atípicos\n",
    "Q1 = df['UnitPrice'].quantile(0.25)\n",
    "Q3 = df['UnitPrice'].quantile(0.75)\n",
    "lower_bound = Q1 - 1.5 * (Q3 - Q1) \n",
    "upper_bound = Q3 + 1.5 * (Q3 - Q1)\n",
    "outliers_unitprice = df[(df['UnitPrice'] < lower_bound) | (df['UnitPrice'] > upper_bound)]\n",
    "print(f\"Cantidad de outliers en la variable UnitPrice: {outliers_unitprice.shape[0]}\")"
   ]
  }
 ],
 "metadata": {
  "kernelspec": {
   "display_name": "Python 3",
   "language": "python",
   "name": "python3"
  },
  "language_info": {
   "codemirror_mode": {
    "name": "ipython",
    "version": 3
   },
   "file_extension": ".py",
   "mimetype": "text/x-python",
   "name": "python",
   "nbconvert_exporter": "python",
   "pygments_lexer": "ipython3",
   "version": "3.11.2"
  }
 },
 "nbformat": 4,
 "nbformat_minor": 2
}
